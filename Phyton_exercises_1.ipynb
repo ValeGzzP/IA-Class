{
  "nbformat": 4,
  "nbformat_minor": 0,
  "metadata": {
    "colab": {
      "provenance": []
    },
    "kernelspec": {
      "name": "python3",
      "display_name": "Python 3"
    },
    "language_info": {
      "name": "python"
    }
  },
  "cells": [
    {
      "cell_type": "code",
      "execution_count": 2,
      "metadata": {
        "colab": {
          "base_uri": "https://localhost:8080/"
        },
        "id": "jy4S822HFLko",
        "outputId": "03b4995f-b2ec-4e7f-9a3d-8766ea87c5bb"
      },
      "outputs": [
        {
          "output_type": "stream",
          "name": "stdout",
          "text": [
            "Give me a number between 0 & 255: 100\n",
            "In binary that is: 1100100\n"
          ]
        }
      ],
      "source": [
        "#PAULA VALERIA GONZÁLEZ PEDRAZA  #1904989  AI CLASS AT N4 \n",
        "entero = int(input(\"Give me a number between 0 & 255: \")) #We first ask to be given a number \n",
        "print(\"In binary that is:\",bin(entero)[2:]) #we then get it with the bin function:)"
      ]
    },
    {
      "cell_type": "code",
      "source": [
        "lst = [21,29,18,37]\n",
        "print(lst) #We print the first line of our pyramid\n",
        "for y in range(0,len(lst)-1): #we start the modification of the values in the list\n",
        "  for z in range(0,len(lst)-1):\n",
        "    x= lst[z]+lst[z+1] # x represents the sum of two values in the list\n",
        "    del lst[z] #as we have the new item, we delete the original value :(\n",
        "    lst.insert(z,x) #and then we add this new value we called x \n",
        "  del lst[len(lst)-1] # as we deleted the firsts values of the list, we now have to delete the last value of the list :(\n",
        "  print(lst) #finally we print it again and it gives us the new set of lists:D"
      ],
      "metadata": {
        "colab": {
          "base_uri": "https://localhost:8080/"
        },
        "id": "lVKiHBYAO6BV",
        "outputId": "80534e26-62a7-4f33-9822-65f514929ece"
      },
      "execution_count": 17,
      "outputs": [
        {
          "output_type": "stream",
          "name": "stdout",
          "text": [
            "[21, 29, 18, 37]\n",
            "[50, 47, 55]\n",
            "[97, 102]\n",
            "[199]\n"
          ]
        }
      ]
    }
  ]
}